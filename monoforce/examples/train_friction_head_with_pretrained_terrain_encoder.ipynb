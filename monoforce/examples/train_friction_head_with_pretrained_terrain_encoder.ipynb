{
 "cells": [
  {
   "cell_type": "code",
   "id": "initial_id",
   "metadata": {
    "collapsed": true
   },
   "source": [
    "import os\n",
    "import torch\n",
    "from tqdm import tqdm\n",
    "import matplotlib.pyplot as plt"
   ],
   "outputs": [],
   "execution_count": null
  },
  {
   "metadata": {},
   "cell_type": "code",
   "source": [
    "# Training parameters\n",
    "batch_size = 2\n",
    "num_epochs = 10\n",
    "lr = 1e-4\n",
    "device = torch.device('cpu')\n",
    "robot = 'tradr2'"
   ],
   "id": "405ada6a73bdc2dd",
   "outputs": [],
   "execution_count": null
  },
  {
   "metadata": {},
   "cell_type": "code",
   "source": [
    "from monoforce.models.dphysics import DPhysics\n",
    "from monoforce.config import DPhysConfig\n",
    "from monoforce.utils import read_yaml\n",
    "\n",
    "# load configs: Differentiable Physics\n",
    "dphys_cfg = DPhysConfig()\n",
    "dphys_config_path = '../config/dphys_cfg.yaml'\n",
    "assert os.path.isfile(dphys_config_path), 'Config file %s does not exist' % dphys_config_path\n",
    "dphys_cfg.from_yaml(dphys_config_path)\n",
    "\n",
    "# load configs: LSS (Terrain Encoder)\n",
    "lss_config_path = f'../config/lss_cfg_{robot}.yaml'\n",
    "assert os.path.isfile(lss_config_path), 'LSS config file %s does not exist' % lss_config_path\n",
    "lss_cfg = read_yaml(lss_config_path)\n",
    "pretrained_model_path = f'../config/weights/lss/lss_robingas_{robot}.pt'"
   ],
   "id": "1ceb9aace3c98c08",
   "outputs": [],
   "execution_count": null
  },
  {
   "metadata": {},
   "cell_type": "code",
   "source": "",
   "id": "a4ea2e6769095d92",
   "outputs": [],
   "execution_count": null
  },
  {
   "metadata": {},
   "cell_type": "code",
   "source": [
    "# Load Differentiable Physics\n",
    "dphysics = DPhysics(dphys_cfg, device=device)"
   ],
   "id": "5f44a2836bd6fd7b",
   "outputs": [],
   "execution_count": null
  },
  {
   "metadata": {},
   "cell_type": "code",
   "source": [
    "from monoforce.models.terrain_encoder.lss import compile_model\n",
    "\n",
    "# Load LSS (Terrain Encoder)\n",
    "lss = compile_model(lss_cfg['grid_conf'], lss_cfg['data_aug_conf'], inpC=3, outC=1)\n",
    "if os.path.exists(pretrained_model_path):\n",
    "    # load pretrained model / update model with pretrained weights\n",
    "    print('Loading pretrained LSS model from', pretrained_model_path)\n",
    "    # https://discuss.pytorch.org/t/how-to-load-part-of-pre-trained-model/1113/3\n",
    "    model_dict = lss.state_dict()\n",
    "    pretrained_model = torch.load(pretrained_model_path)\n",
    "    model_dict.update(pretrained_model)\n",
    "    lss.load_state_dict(model_dict)\n",
    "lss.to(device)\n",
    "lss.train();"
   ],
   "id": "17291d5057fa46f5",
   "outputs": [],
   "execution_count": null
  },
  {
   "metadata": {},
   "cell_type": "code",
   "source": [
    "# Load dataset\n",
    "from monoforce.utils import compile_data\n",
    "\n",
    "train_ds, val_ds = compile_data(dataset='robingas',\n",
    "                                robot=robot,\n",
    "                                lss_cfg=lss_cfg,\n",
    "                                dphys_cfg=dphys_cfg,\n",
    "                                small_data=True)\n",
    "print('Train dataset:', len(train_ds))\n",
    "print('Validation dataset:', len(val_ds))"
   ],
   "id": "3ee443bfa2d1f278",
   "outputs": [],
   "execution_count": null
  },
  {
   "metadata": {},
   "cell_type": "code",
   "source": [
    "# Create dataloaders\n",
    "from torch.utils.data import DataLoader\n",
    "\n",
    "train_dl = DataLoader(train_ds, batch_size=batch_size, shuffle=True)\n",
    "val_dl = DataLoader(val_ds, batch_size=batch_size, shuffle=False)"
   ],
   "id": "302cb4eb76c512b3",
   "outputs": [],
   "execution_count": null
  },
  {
   "metadata": {},
   "cell_type": "code",
   "source": [
    "%matplotlib inline\n",
    "\n",
    "# Training: Friction Head\n",
    "# https://discuss.pytorch.org/t/how-to-train-a-part-of-a-network/8923/2\n",
    "optimizer = torch.optim.Adam(lss.bevencode.up_friction.parameters(), lr=lr)\n",
    "\n",
    "# train loop\n",
    "for epoch in range(num_epochs):\n",
    "    # epoch loop\n",
    "    for batch in tqdm(train_dl, total=len(train_dl)):\n",
    "        batch = [torch.as_tensor(b, dtype=torch.float32, device=device) for b in batch]\n",
    "        (imgs, rots, trans, intrins, post_rots, post_trans,\n",
    "         hm_geom, hm_terrain,\n",
    "         control_ts, controls,\n",
    "         traj_ts, Xs, Xds, Rs, Omegas) = batch\n",
    "        \n",
    "        optimizer.zero_grad()\n",
    "        \n",
    "        # terrain encoder forward pass\n",
    "        inputs = [imgs, rots, trans, intrins, post_rots, post_trans]\n",
    "        voxel_feats = lss.get_voxels(*inputs)\n",
    "        height_pred_geom, height_pred_diff, friction_pred = lss.bevencode(voxel_feats)\n",
    "        \n",
    "        # predict states\n",
    "        states_pred, _ = dphysics(z_grid=height_pred_geom.squeeze(1),\n",
    "                                  controls=controls,\n",
    "                                  friction=friction_pred.squeeze(1))\n",
    "        # unpack states\n",
    "        Xs_pred, Xds_pred, Rs_pred, Omegas_pred, _ = states_pred\n",
    "    \n",
    "        # find the closest timesteps in the trajectory to the ground truth timesteps\n",
    "        ts_ids = torch.argmin(torch.abs(control_ts.unsqueeze(1) - traj_ts.unsqueeze(2)), dim=2)\n",
    "    \n",
    "        # compute the loss as the mean squared error between the predicted and ground truth poses\n",
    "        batch_size = Xs.shape[0]\n",
    "        loss = torch.nn.functional.mse_loss(Xs_pred[torch.arange(batch_size).unsqueeze(1), ts_ids], Xs)\n",
    "        \n",
    "        # backpropagate\n",
    "        loss.backward()\n",
    "        optimizer.step()\n",
    "   \n",
    "    # visualize predictions\n",
    "    with torch.no_grad(): \n",
    "        print('Epoch:', epoch, 'Loss:', loss.item())\n",
    "        \n",
    "        plt.figure(figsize=(20, 5))\n",
    "        plt.subplot(1, 4, 1)\n",
    "        plt.imshow(height_pred_geom[0, 0].cpu().numpy().T,  origin='lower', vmin=-1, vmax=1, cmap='terrain')\n",
    "        plt.colorbar()\n",
    "        plt.title('Predicted Heightmap')\n",
    "        \n",
    "        plt.subplot(1, 4, 2)\n",
    "        plt.imshow(hm_geom[0, 0].cpu().numpy().T, origin='lower', vmin=-1, vmax=1, cmap='terrain')\n",
    "        plt.colorbar()\n",
    "        plt.title('Ground Truth Heightmap')\n",
    "        \n",
    "        plt.subplot(1, 4, 3)\n",
    "        plt.imshow(friction_pred[0, 0].cpu().numpy(), origin='lower', vmin=0, vmax=1, cmap='terrain')\n",
    "        plt.colorbar()\n",
    "        plt.title('Predicted Friction')\n",
    "        \n",
    "        plt.subplot(1, 4, 4)\n",
    "        plt.plot(Xs[0, :, 0].cpu().numpy(), Xs[0, :, 1].cpu().numpy(), 'r', label='GT poses')\n",
    "        plt.plot(Xs_pred[0, :, 0].cpu().numpy(), Xs_pred[0, :, 1].cpu().numpy(), 'b', label='Pred poses')\n",
    "        plt.grid()\n",
    "        plt.axis('equal')\n",
    "        plt.legend()\n",
    "        plt.title('Trajectory')\n",
    "        \n",
    "        plt.show()"
   ],
   "id": "f59e758e3ad57f51",
   "outputs": [],
   "execution_count": null
  }
 ],
 "metadata": {
  "kernelspec": {
   "display_name": "Python 3",
   "language": "python",
   "name": "python3"
  },
  "language_info": {
   "codemirror_mode": {
    "name": "ipython",
    "version": 2
   },
   "file_extension": ".py",
   "mimetype": "text/x-python",
   "name": "python",
   "nbconvert_exporter": "python",
   "pygments_lexer": "ipython2",
   "version": "2.7.6"
  }
 },
 "nbformat": 4,
 "nbformat_minor": 5
}
