{
 "cells": [
  {
   "cell_type": "code",
   "execution_count": null,
   "id": "98b7d817",
   "metadata": {},
   "outputs": [],
   "source": [
    "import os\n",
    "import numpy as np\n",
    "import matplotlib.pyplot as plt"
   ]
  },
  {
   "cell_type": "code",
   "execution_count": null,
   "id": "d4fee362",
   "metadata": {},
   "outputs": [],
   "source": [
    "path = '../data/kkt/data/'\n",
    "os.listdir(path)"
   ]
  },
  {
   "cell_type": "markdown",
   "id": "5db88cb5",
   "metadata": {},
   "source": [
    "## Sparse to Dense"
   ]
  },
  {
   "cell_type": "code",
   "execution_count": null,
   "id": "42efaa84",
   "metadata": {},
   "outputs": [],
   "source": [
    "import sys\n",
    "sys.path.append('../../pose-consistency-KKT-loss/scripts/')\n",
    "from dataset_s2d import Dataset\n",
    "\n",
    "ds = Dataset(path=os.path.join(path, 's2d_trn/'))\n",
    "len(ds)"
   ]
  },
  {
   "cell_type": "code",
   "execution_count": null,
   "id": "ba897a3d",
   "metadata": {},
   "outputs": [],
   "source": [
    "data = ds[int(np.random.choice(range(len(ds))))]\n",
    "\n",
    "input = data['input']\n",
    "label = data['label_d']\n",
    "input_mask = data['mask']\n",
    "weights = data['weights']"
   ]
  },
  {
   "cell_type": "code",
   "execution_count": null,
   "id": "232e59a0",
   "metadata": {},
   "outputs": [],
   "source": [
    "def normalize(x, eps=1e-8):\n",
    "    x = x - x.min()\n",
    "    x = x / (x.max() + eps)\n",
    "    return x"
   ]
  },
  {
   "cell_type": "code",
   "execution_count": null,
   "id": "2828ab39",
   "metadata": {},
   "outputs": [],
   "source": [
    "plt.figure(figsize=(20, 10))\n",
    "plt.subplot(1, 4, 1)\n",
    "plt.title('Input')\n",
    "plt.imshow(normalize(input[0]))\n",
    "\n",
    "plt.subplot(1, 4, 2)\n",
    "plt.title('Label')\n",
    "plt.imshow(normalize(label[0]))\n",
    "\n",
    "plt.subplot(1, 4, 3)\n",
    "plt.title('Input mask')\n",
    "plt.imshow(input_mask[0])\n",
    "\n",
    "plt.subplot(1, 4, 4)\n",
    "plt.title('Weights')\n",
    "plt.imshow(weights[0])"
   ]
  },
  {
   "cell_type": "markdown",
   "id": "56f970f9",
   "metadata": {},
   "source": [
    "## Dense to RPZ"
   ]
  },
  {
   "cell_type": "code",
   "execution_count": null,
   "id": "27c43d9e",
   "metadata": {},
   "outputs": [],
   "source": [
    "from dataset_d2rpz import Dataset\n",
    "\n",
    "ds = Dataset(path=os.path.join(path, 'd2rpz_labels/'))\n",
    "len(ds)"
   ]
  },
  {
   "cell_type": "code",
   "execution_count": null,
   "id": "2b158f6f",
   "metadata": {},
   "outputs": [],
   "source": [
    "data = ds[int(np.random.choice(range(len(ds))))]\n",
    "\n",
    "input = data['input']\n",
    "label = data['label']\n",
    "\n",
    "print(input.shape, label.shape)"
   ]
  },
  {
   "cell_type": "code",
   "execution_count": null,
   "id": "03d66d10",
   "metadata": {},
   "outputs": [],
   "source": [
    "plt.figure(figsize=(20, 10))\n",
    "plt.subplot(1, 4, 1)\n",
    "plt.title('Input')\n",
    "plt.imshow(normalize(input[0]))\n",
    "\n",
    "plt.subplot(1, 4, 2)\n",
    "plt.title('Label 1: Roll')\n",
    "plt.imshow(label[0])\n",
    "\n",
    "plt.subplot(1, 4, 3)\n",
    "plt.title('Label 2: Pitch')\n",
    "plt.imshow(label[1])\n",
    "\n",
    "plt.subplot(1, 4, 4)\n",
    "plt.title('Label 3: Z')\n",
    "plt.imshow(label[2])"
   ]
  },
  {
   "cell_type": "markdown",
   "id": "f9b0d027",
   "metadata": {},
   "source": [
    "## Soft to Dense"
   ]
  },
  {
   "cell_type": "code",
   "execution_count": null,
   "id": "305261d2",
   "metadata": {},
   "outputs": [],
   "source": [
    "from dataset_sf2d import Dataset\n",
    "\n",
    "ds = Dataset(path=os.path.join(path, 'sf2d_trn/'))\n",
    "len(ds)"
   ]
  },
  {
   "cell_type": "code",
   "execution_count": null,
   "id": "d890476a",
   "metadata": {},
   "outputs": [],
   "source": [
    "data = ds[int(np.random.choice(range(len(ds))))]\n",
    "\n",
    "input = data['input']\n",
    "label = data['label']\n",
    "input_mask = data['mask']\n",
    "weights = data['weights']\n",
    "imgs = data['images']\n",
    "\n",
    "T_baselink_zpr = data['T_baselink_zpr']\n",
    "features = data['features']"
   ]
  },
  {
   "cell_type": "code",
   "execution_count": null,
   "id": "22e50771",
   "metadata": {
    "scrolled": false
   },
   "outputs": [],
   "source": [
    "for i in range(len(imgs)):\n",
    "    plt.imshow(imgs[i][..., (2,1,0)])\n",
    "    plt.show()"
   ]
  },
  {
   "cell_type": "code",
   "execution_count": null,
   "id": "f212c947",
   "metadata": {},
   "outputs": [],
   "source": [
    "plt.figure(figsize=(20, 10))\n",
    "plt.subplot(1, 4, 1)\n",
    "plt.title('Input')\n",
    "plt.imshow(normalize(input[0]))\n",
    "\n",
    "plt.subplot(1, 4, 2)\n",
    "plt.title('Label')\n",
    "plt.imshow(normalize(label[0]))\n",
    "\n",
    "plt.subplot(1, 4, 3)\n",
    "plt.title('Input mask')\n",
    "plt.imshow(input_mask[0])\n",
    "\n",
    "plt.subplot(1, 4, 4)\n",
    "plt.title('Weights')\n",
    "plt.imshow(weights[0])"
   ]
  },
  {
   "cell_type": "markdown",
   "id": "fd4ed47b",
   "metadata": {},
   "source": [
    "## KKT"
   ]
  },
  {
   "cell_type": "code",
   "execution_count": null,
   "id": "b479bf4e",
   "metadata": {},
   "outputs": [],
   "source": [
    "i = np.random.choice(os.listdir(os.path.join(path, 'tomas_pose_all')))\n",
    "i_path = os.path.join(path, 'tomas_pose_all', i)\n",
    "\n",
    "data = np.load(i_path)\n",
    "print(data.files)"
   ]
  },
  {
   "cell_type": "code",
   "execution_count": null,
   "id": "99756b29",
   "metadata": {},
   "outputs": [],
   "source": [
    "input = data['input']\n",
    "label_rpz = data['label_rpz']\n",
    "dem_interp = data['dem_interp']\n",
    "dem_s2d2rpz = data['dem_s2d2rpz']\n",
    "dem_s2d2kkt = data['dem_s2d2kkt']"
   ]
  },
  {
   "cell_type": "code",
   "execution_count": null,
   "id": "f148aa65",
   "metadata": {},
   "outputs": [],
   "source": [
    "input.shape, label_rpz.shape, dem_interp.shape, dem_s2d2rpz.shape, dem_s2d2kkt.shape"
   ]
  },
  {
   "cell_type": "code",
   "execution_count": null,
   "id": "6255ff3e",
   "metadata": {},
   "outputs": [],
   "source": [
    "label_rpz_vis = label_rpz.copy()\n",
    "label_rpz_vis[np.isnan(label_rpz_vis)] = -1\n",
    "\n",
    "plt.figure(figsize=(10, 15))\n",
    "\n",
    "plt.subplot(3, 2, 1)\n",
    "plt.title('Input')\n",
    "plt.imshow(input)\n",
    "\n",
    "plt.subplot(3, 2, 2)\n",
    "plt.title('Label 1: Roll')\n",
    "plt.imshow(label_rpz_vis[0])\n",
    "\n",
    "plt.subplot(3, 2, 3)\n",
    "plt.title('Label 2: Pitch')\n",
    "plt.imshow(label_rpz_vis[1])\n",
    "\n",
    "plt.subplot(3, 2, 4)\n",
    "plt.title('DEM Interp')\n",
    "plt.imshow(normalize(dem_interp))\n",
    "\n",
    "plt.subplot(3, 2, 5)\n",
    "plt.title('DEM S2D2RPZ')\n",
    "plt.imshow(normalize(dem_s2d2rpz))\n",
    "\n",
    "plt.subplot(3, 2, 6)\n",
    "plt.title('DEM S2D2KKT')\n",
    "plt.imshow(normalize(dem_s2d2kkt))"
   ]
  },
  {
   "cell_type": "markdown",
   "id": "7dc82ee5",
   "metadata": {},
   "source": [
    "## Real RPZ"
   ]
  },
  {
   "cell_type": "code",
   "execution_count": null,
   "id": "2460f33a",
   "metadata": {},
   "outputs": [],
   "source": [
    "from dataset_real_rpz import Dataset\n",
    "\n",
    "ds = Dataset(path=os.path.join(path, 's2d_trn/'))\n",
    "len(ds)"
   ]
  },
  {
   "cell_type": "code",
   "execution_count": null,
   "id": "7dd7084c",
   "metadata": {},
   "outputs": [],
   "source": [
    "data = ds[int(np.random.choice(range(len(ds))))]\n",
    "\n",
    "input = data['input']\n",
    "label_rpz = data['label_rpz']\n",
    "mask = data['mask']\n",
    "label_dem = data['label_dem_d']\n",
    "label_dem_p = data['label_dem']\n",
    "weights = data['weights']\n",
    "yaw = data['yaw']"
   ]
  },
  {
   "cell_type": "code",
   "execution_count": null,
   "id": "95d2f5d1",
   "metadata": {},
   "outputs": [],
   "source": [
    "input.shape, label_rpz.shape, mask.shape, label_dem.shape, label_dem_p.shape, weights.shape, yaw.shape"
   ]
  },
  {
   "cell_type": "code",
   "execution_count": null,
   "id": "ffcb48ac",
   "metadata": {},
   "outputs": [],
   "source": [
    "label_rpz_vis = label_rpz.copy()\n",
    "label_rpz_vis[np.isnan(label_rpz_vis)] = -1\n",
    "\n",
    "yaw_vis = yaw.copy()\n",
    "yaw_vis[np.isnan(yaw_vis)] = -np.pi/2\n",
    "\n",
    "plt.figure(figsize=(10, 15))\n",
    "\n",
    "plt.subplot(4, 2, 1)\n",
    "plt.title('Input')\n",
    "plt.imshow(input[0])\n",
    "\n",
    "plt.subplot(4, 2, 2)\n",
    "plt.title('Label 1: Roll')\n",
    "plt.imshow(label_rpz_vis[0])\n",
    "\n",
    "plt.subplot(4, 2, 3)\n",
    "plt.title('Label 2: Pitch')\n",
    "plt.imshow(label_rpz_vis[1])\n",
    "\n",
    "plt.subplot(4, 2, 4)\n",
    "plt.title('Label 2: Z')\n",
    "plt.imshow(label_rpz_vis[2])\n",
    "\n",
    "plt.subplot(4, 2, 5)\n",
    "plt.title('DEM Dense')\n",
    "plt.imshow(normalize(label_dem[0]))\n",
    "\n",
    "plt.subplot(4, 2, 6)\n",
    "plt.title('DEM Sparse')\n",
    "plt.imshow(normalize(label_dem_p[0]))\n",
    "\n",
    "plt.subplot(4, 2, 7)\n",
    "plt.title('Weights')\n",
    "plt.imshow(weights[0])\n",
    "\n",
    "plt.subplot(4, 2, 8)\n",
    "plt.title('Yaw')\n",
    "plt.imshow(yaw_vis)"
   ]
  }
 ],
 "metadata": {
  "kernelspec": {
   "display_name": "Python 3 (ipykernel)",
   "language": "python",
   "name": "python3"
  },
  "language_info": {
   "codemirror_mode": {
    "name": "ipython",
    "version": 3
   },
   "file_extension": ".py",
   "mimetype": "text/x-python",
   "name": "python",
   "nbconvert_exporter": "python",
   "pygments_lexer": "ipython3",
   "version": "3.8.12"
  }
 },
 "nbformat": 4,
 "nbformat_minor": 5
}
