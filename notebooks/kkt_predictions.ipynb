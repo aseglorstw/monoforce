{
 "cells": [
  {
   "cell_type": "code",
   "execution_count": null,
   "id": "d90da094",
   "metadata": {},
   "outputs": [],
   "source": [
    "import sys\n",
    "sys.path.append('../../pose-consistency-KKT-loss/scripts/')\n",
    "import os\n",
    "import numpy as np\n",
    "import matplotlib.pyplot as plt\n",
    "import torch\n",
    "import network_s2d\n",
    "import network_d2rpz\n",
    "from dataset_s2d import Dataset"
   ]
  },
  {
   "cell_type": "code",
   "execution_count": null,
   "id": "13bd4792",
   "metadata": {},
   "outputs": [],
   "source": [
    "path = '../data/kkt/data/'\n",
    "os.listdir(path)"
   ]
  },
  {
   "cell_type": "code",
   "execution_count": null,
   "id": "a5b3adeb",
   "metadata": {},
   "outputs": [],
   "source": [
    "device = torch.device(\"cuda:0\" if torch.cuda.is_available() else \"cpu\")\n",
    "# device = \"cpu\"\n",
    "model_s2d = network_s2d.Net()\n",
    "model_s2d.load_state_dict(torch.load(\"../config/weights/kkt/network_weights_s2d\", map_location=device))\n",
    "model_s2d.to(device)\n",
    "\n",
    "dataset_val = Dataset(os.path.join(path, \"s2d_tst/\"))\n",
    "valloader = torch.utils.data.DataLoader(dataset_val, batch_size=1, shuffle=True, num_workers=0)"
   ]
  },
  {
   "cell_type": "code",
   "execution_count": null,
   "id": "5971f5da",
   "metadata": {
    "scrolled": true
   },
   "outputs": [],
   "source": [
    "from tqdm import tqdm\n",
    "\n",
    "with torch.no_grad():\n",
    "\n",
    "    for i, data in tqdm(enumerate(valloader)):\n",
    "        input = data['input']\n",
    "        input_mask = data['mask']\n",
    "        input, input_mask = input.to(device), input_mask.to(device)\n",
    "\n",
    "        input_w_mask = torch.cat([input, input_mask], 1)\n",
    "\n",
    "        output_DEM = model_s2d(input_w_mask)\n",
    "\n",
    "        dense = output_DEM[:, 0:1]\n",
    "        \n",
    "        if i % 100 == 0:\n",
    "            inpt = input.squeeze().detach().cpu().numpy()\n",
    "            pred = dense.squeeze().detach().cpu().numpy()\n",
    "            label = data['label'].squeeze().detach().cpu().numpy()\n",
    "\n",
    "            plt.figure(figsize=(12, 36))\n",
    "            plt.subplot(1, 3, 1)\n",
    "            plt.title('Input')\n",
    "            plt.imshow(inpt)\n",
    "\n",
    "            plt.subplot(1, 3 ,2)\n",
    "            plt.title('Prediction')\n",
    "            plt.imshow(pred)\n",
    "\n",
    "            plt.subplot(1, 3, 3)\n",
    "            plt.title('Label')\n",
    "            plt.imshow(label)\n",
    "            \n",
    "            plt.show()\n",
    "        break"
   ]
  },
  {
   "cell_type": "code",
   "execution_count": null,
   "id": "497b4ef2",
   "metadata": {},
   "outputs": [],
   "source": [
    "def set_axes_equal(ax):\n",
    "    '''Make axes of 3D plot have equal scale so that spheres appear as spheres,\n",
    "    cubes as cubes, etc..  This is one possible solution to Matplotlib's\n",
    "    ax.set_aspect('equal') and ax.axis('equal') not working for 3D.\n",
    "\n",
    "    Input\n",
    "      ax: a matplotlib axis, e.g., as output from plt.gca().\n",
    "    '''\n",
    "\n",
    "    x_limits = ax.get_xlim3d()\n",
    "    y_limits = ax.get_ylim3d()\n",
    "    z_limits = ax.get_zlim3d()\n",
    "\n",
    "    x_range = abs(x_limits[1] - x_limits[0])\n",
    "    x_middle = np.mean(x_limits)\n",
    "    y_range = abs(y_limits[1] - y_limits[0])\n",
    "    y_middle = np.mean(y_limits)\n",
    "    z_range = abs(z_limits[1] - z_limits[0])\n",
    "    z_middle = np.mean(z_limits)\n",
    "\n",
    "    # The plot bounding box is a sphere in the sense of the infinity\n",
    "    # norm, hence I call half the max range the plot radius.\n",
    "    plot_radius = 0.5*max([x_range, y_range, z_range])\n",
    "\n",
    "    ax.set_xlim3d([x_middle - plot_radius, x_middle + plot_radius])\n",
    "    ax.set_ylim3d([y_middle - plot_radius, y_middle + plot_radius])\n",
    "    ax.set_zlim3d([z_middle - plot_radius, z_middle + plot_radius])\n"
   ]
  },
  {
   "cell_type": "code",
   "execution_count": null,
   "id": "49aa0677",
   "metadata": {},
   "outputs": [],
   "source": [
    "from mpl_toolkits.mplot3d import Axes3D\n",
    "\n",
    "grid_res = 0.1\n",
    "h, w = pred.shape\n",
    "x_grid, y_grid = np.mgrid[-h//2:h//2, -w//2:w//2] * grid_res\n",
    "    \n",
    "# Visualization of the data\n",
    "fig = plt.figure(figsize=(24, 12))\n",
    "ax = fig.add_subplot(121, projection='3d')\n",
    "plt.title('Prediction')\n",
    "ax.plot_surface(x_grid, y_grid, pred, alpha=0.7)\n",
    "ax.set_xlabel('X Label')\n",
    "ax.set_ylabel('Y Label')\n",
    "ax.set_zlabel('Z Label')\n",
    "set_axes_equal(ax)\n",
    "\n",
    "ax = fig.add_subplot(122, projection='3d')\n",
    "plt.title('Label')\n",
    "ax.plot_surface(x_grid, y_grid, label, alpha=0.7)\n",
    "ax.set_xlabel('X Label')\n",
    "ax.set_ylabel('Y Label')\n",
    "ax.set_zlabel('Z Label')\n",
    "set_axes_equal(ax)"
   ]
  },
  {
   "cell_type": "markdown",
   "id": "c3f498db",
   "metadata": {},
   "source": [
    "## RobinGas data "
   ]
  },
  {
   "cell_type": "code",
   "execution_count": null,
   "id": "9c35f61a",
   "metadata": {},
   "outputs": [],
   "source": [
    "from differentiable_physics.datasets import RobinGasDataset\n",
    "from differentiable_physics.segmentation import position\n",
    "from differentiable_physics.config import Config\n",
    "\n",
    "cfg = Config()\n",
    "cfg.grid_res = 0.1\n",
    "cfg.d_max = 12.8\n",
    "cfg.d_min = 1.\n",
    "cfg.hm_interp_method = None\n",
    "\n",
    "path = '/home/ruslan/data/robingas/data/22-08-12-cimicky_haj/marv/ugv_2022-08-12-15-18-34_trav/'\n",
    "ds = RobinGasDataset(path, cfg=cfg)\n",
    "\n",
    "i = 0\n",
    "cloud, traj, heightmap = ds[i]\n",
    "height = heightmap['z']"
   ]
  },
  {
   "cell_type": "code",
   "execution_count": null,
   "id": "67fb73ec",
   "metadata": {},
   "outputs": [],
   "source": [
    "h, w = height.shape\n",
    "\n",
    "with torch.no_grad():\n",
    "    input = torch.as_tensor(height, dtype=torch.float32).view((1, 1, h, w))\n",
    "    # input_mask = torch.ones_like(input)\n",
    "    input_mask = torch.as_tensor(heightmap['mask'], dtype=torch.float32).view((1, 1, h, w))\n",
    "    input, input_mask = input.to(device), input_mask.to(device)\n",
    "\n",
    "    input_w_mask = torch.cat([input, input_mask], 1)\n",
    "\n",
    "    output_DEM = model_s2d(input_w_mask)"
   ]
  },
  {
   "cell_type": "code",
   "execution_count": null,
   "id": "515ce18b",
   "metadata": {},
   "outputs": [],
   "source": [
    "pred = output_DEM[0, 0].squeeze().cpu().numpy()\n",
    "mask = input_mask[0].squeeze().cpu().numpy()\n",
    "\n",
    "plt.figure(figsize=(10, 5))\n",
    "plt.subplot(131)\n",
    "plt.imshow(height)\n",
    "plt.colorbar()\n",
    "\n",
    "plt.subplot(132)\n",
    "plt.imshow(mask, cmap='gray')\n",
    "plt.colorbar()\n",
    "\n",
    "plt.subplot(133)\n",
    "plt.imshow(pred)\n",
    "plt.colorbar()"
   ]
  },
  {
   "cell_type": "code",
   "execution_count": null,
   "id": "306726e2",
   "metadata": {},
   "outputs": [],
   "source": [
    "h, w = pred.shape\n",
    "x_grid, y_grid = np.mgrid[-h//2:h//2, -w//2:w//2] * cfg.grid_res\n",
    "    \n",
    "# Visualization of the data\n",
    "fig = plt.figure(figsize=(24, 12))\n",
    "\n",
    "ax = fig.add_subplot(121, projection='3d')\n",
    "plt.title('Input')\n",
    "ax.plot_surface(x_grid, y_grid, height, alpha=0.7)\n",
    "ax.set_xlabel('X Label')\n",
    "ax.set_ylabel('Y Label')\n",
    "ax.set_zlabel('Z Label')\n",
    "set_axes_equal(ax)\n",
    "\n",
    "ax = fig.add_subplot(122, projection='3d')\n",
    "plt.title('Prediction')\n",
    "ax.plot_surface(x_grid, y_grid, pred, alpha=0.7)\n",
    "ax.set_xlabel('X Label')\n",
    "ax.set_ylabel('Y Label')\n",
    "ax.set_zlabel('Z Label')\n",
    "set_axes_equal(ax)"
   ]
  }
 ],
 "metadata": {
  "kernelspec": {
   "display_name": "Python 3 (ipykernel)",
   "language": "python",
   "name": "python3"
  },
  "language_info": {
   "codemirror_mode": {
    "name": "ipython",
    "version": 3
   },
   "file_extension": ".py",
   "mimetype": "text/x-python",
   "name": "python",
   "nbconvert_exporter": "python",
   "pygments_lexer": "ipython3",
   "version": "3.8.12"
  }
 },
 "nbformat": 4,
 "nbformat_minor": 5
}
